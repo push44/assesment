{
 "cells": [
  {
   "cell_type": "code",
   "execution_count": 1,
   "metadata": {},
   "outputs": [],
   "source": [
    "import pandas as pd\n",
    "from datetime import datetime\n",
    "\n",
    "import sqlite3\n",
    "from sqlalchemy import create_engine"
   ]
  },
  {
   "cell_type": "markdown",
   "metadata": {},
   "source": [
    "Let's write few functions that will help us interacting with SQLite databse."
   ]
  },
  {
   "cell_type": "code",
   "execution_count": 2,
   "metadata": {},
   "outputs": [],
   "source": [
    "def create_connection(db_file, delete_db=False):\n",
    "    import os\n",
    "    if delete_db and os.path.exists(db_file):\n",
    "        os.remove(db_file)\n",
    "\n",
    "    conn = None\n",
    "    try:\n",
    "        conn = sqlite3.connect(db_file)\n",
    "        conn.execute(\"PRAGMA foreign_keys = 1\")\n",
    "    except Error as e:\n",
    "        print(e)\n",
    "\n",
    "    return conn\n",
    "\n",
    "\n",
    "def create_table(conn, create_table_sql, drop_table_name=None):\n",
    "    \n",
    "    if drop_table_name: # You can optionally pass drop_table_name to drop the table. \n",
    "        try:\n",
    "            c = conn.cursor()\n",
    "            c.execute(\"\"\"DROP TABLE IF EXISTS %s\"\"\" % (drop_table_name))\n",
    "        except Error as e:\n",
    "            print(e)\n",
    "    \n",
    "    try:\n",
    "        c = conn.cursor()\n",
    "        c.execute(create_table_sql)\n",
    "    except Error as e:\n",
    "        print(e)\n",
    "        \n",
    "def insert_sql_statement(insert_data, conn, table_name):\n",
    "    with conn:\n",
    "        cur = conn.cursor()\n",
    "\n",
    "        empty_value_container = \"?,\"*len(insert_data[0])\n",
    "        empty_value_container = \"\".join([\"(\",empty_value_container.strip(\",\"),\")\"])\n",
    "\n",
    "        cur.executemany(f\"INSERT INTO {table_name} VALUES {empty_value_container}\", insert_data)\n",
    "        \n",
    "def read_sql_query(query, conn):\n",
    "    result = pd.read_sql_query(query, conn)\n",
    "    return result"
   ]
  },
  {
   "cell_type": "markdown",
   "metadata": {},
   "source": [
    "Let's first create connection to database"
   ]
  },
  {
   "cell_type": "code",
   "execution_count": 3,
   "metadata": {},
   "outputs": [],
   "source": [
    "database_filename = \"info.db\"\n",
    "conn = create_connection(database_filename)"
   ]
  },
  {
   "cell_type": "markdown",
   "metadata": {},
   "source": [
    "Let's now create database relations"
   ]
  },
  {
   "cell_type": "code",
   "execution_count": 4,
   "metadata": {},
   "outputs": [],
   "source": [
    "def create_users_table():\n",
    "    \n",
    "    insert_data = list(zip([1,2,3,4,5,6],list(map(lambda date: datetime.strptime(date, \"%m/%d/%Y\"), [\"01/01/2001\", \"01/01/2001\", \"01/01/2001\", \"02/01/2001\", \"02/01/2001\", \"02/01/2001\"]))))\n",
    "\n",
    "    sql_create_statement = \"\"\"\n",
    "\n",
    "                CREATE Table users(\n",
    "                    user_id Integer not null Primary key,\n",
    "                    created_at date\n",
    "                )\n",
    "\n",
    "    \"\"\"\n",
    "\n",
    "    create_table(conn, sql_create_statement, drop_table_name=\"users\")\n",
    "\n",
    "    insert_sql_statement(insert_data, conn, \"users\")\n",
    "    \n",
    "create_users_table()"
   ]
  },
  {
   "cell_type": "code",
   "execution_count": 5,
   "metadata": {},
   "outputs": [],
   "source": [
    "def create_exercises_table():\n",
    "    \n",
    "    insert_data = list(zip([\"e1\",\"e2\",\"e3\",\"e4\",\"e5\",\"e6\",\"e7\",\"e8\",\"e9\"], [1,2,3,4,5,5,6,6,6], list(map(lambda date: datetime.strptime(date, \"%m/%d/%Y\"), [\"01/20/2001\",\"01/21/2001\",\"12/20/2001\", \"02/20/2001\", \"02/21/2001\", \"02/21/2001\", \"02/22/2001\", \"02/23/2001\", \"02/24/2001\"]))))\n",
    "\n",
    "    sql_create_statement = \"\"\"\n",
    "\n",
    "                create table exercises(\n",
    "                    exercise_id str not null unique,\n",
    "                    user_id integer,\n",
    "                    exercise_completion_date date,\n",
    "                    \n",
    "                    foreign key(user_id) references users\n",
    "                )\n",
    "\n",
    "    \"\"\"\n",
    "\n",
    "    create_table(conn, sql_create_statement, drop_table_name=\"exercises\")\n",
    "\n",
    "    insert_sql_statement(insert_data, conn, \"exercises\")\n",
    "    \n",
    "create_exercises_table()"
   ]
  },
  {
   "cell_type": "code",
   "execution_count": 6,
   "metadata": {},
   "outputs": [],
   "source": [
    "def create_providers_table():\n",
    "    \n",
    "    insert_data = list(zip([\"pr1\", \"pr2\", \"pr3\", \"pr4\", \"pr5\", \"pr6\", \"pr7\", \"pr8\", \"pr9\"], [\"o1\", \"o1\", \"o2\", \"o2\", \"o3\", \"o3\", \"o4\", \"o5\", \"o6\"], [\"Org1\", \"Org1\", \"Org2\", \"Org2\", \"Org3\", \"Org3\", \"Org4\", \"Org5\", \"Org6\"]))\n",
    "\n",
    "    sql_create_statement = \"\"\"\n",
    "\n",
    "                create table providers(\n",
    "                    provider_id str not null Primary key,\n",
    "                    organization_id str not null,\n",
    "                    organization_name str\n",
    "                )\n",
    "\n",
    "    \"\"\"\n",
    "\n",
    "    create_table(conn, sql_create_statement, drop_table_name=\"providers\")\n",
    "\n",
    "    insert_sql_statement(insert_data, conn, \"providers\")\n",
    "    \n",
    "create_providers_table()"
   ]
  },
  {
   "cell_type": "code",
   "execution_count": 7,
   "metadata": {},
   "outputs": [],
   "source": [
    "def create_phq9_table():\n",
    "    \n",
    "    insert_data = list(zip([\"p1\", \"p2\", \"p3\", \"p4\", \"p5\", \"p6\", \"p7\", \"p8\", \"p9\", \"p10\", \"p11\", \"p12\", \"p13\", \"p14\"], [\"pr1\", \"pr1\", \"pr2\", \"pr2\", \"pr3\", \"pr4\", \"pr4\", \"pr5\", \"pr5\", \"pr6\", \"pr6\", \"pr7\", \"pr8\", \"pr9\"], [12, 23, 20, 22, 15, 16, 18, 20, 24, 21, 27, 13, 15, 16], list(map(lambda date: datetime.strptime(date, \"%m/%d/%Y\"), [\"01/01/2020\", \"01/02/2020\", \"01/03/2020\", \"01/04/2020\", \"01/05/2020\", \"01/06/2020\", \"01/07/2020\", \"01/08/2020\", \"01/09/2020\", \"01/10/2020\", \"01/11/2020\", \"01/12/2020\", \"01/13/2020\", \"01/14/2020\"]))))\n",
    "\n",
    "    sql_create_statement = \"\"\"\n",
    "\n",
    "                create table phq9(\n",
    "                    patient_id str Primary key,\n",
    "                    provider_id str not null,\n",
    "                    score integer,\n",
    "                    datetime_created date,\n",
    "                    \n",
    "                    foreign key(provider_id) references providers\n",
    "                )\n",
    "\n",
    "    \"\"\"\n",
    "\n",
    "    create_table(conn, sql_create_statement, drop_table_name=\"phq9\")\n",
    "\n",
    "    insert_sql_statement(insert_data, conn, \"phq9\")\n",
    "    \n",
    "create_phq9_table()"
   ]
  },
  {
   "cell_type": "markdown",
   "metadata": {},
   "source": [
    "Check any database relation we created!"
   ]
  },
  {
   "cell_type": "code",
   "execution_count": 8,
   "metadata": {},
   "outputs": [
    {
     "data": {
      "text/html": [
       "<div>\n",
       "<style scoped>\n",
       "    .dataframe tbody tr th:only-of-type {\n",
       "        vertical-align: middle;\n",
       "    }\n",
       "\n",
       "    .dataframe tbody tr th {\n",
       "        vertical-align: top;\n",
       "    }\n",
       "\n",
       "    .dataframe thead th {\n",
       "        text-align: right;\n",
       "    }\n",
       "</style>\n",
       "<table border=\"1\" class=\"dataframe\">\n",
       "  <thead>\n",
       "    <tr style=\"text-align: right;\">\n",
       "      <th></th>\n",
       "      <th>exercise_id</th>\n",
       "      <th>user_id</th>\n",
       "      <th>exercise_completion_date</th>\n",
       "    </tr>\n",
       "  </thead>\n",
       "  <tbody>\n",
       "    <tr>\n",
       "      <th>0</th>\n",
       "      <td>e1</td>\n",
       "      <td>1</td>\n",
       "      <td>2001-01-20 00:00:00</td>\n",
       "    </tr>\n",
       "    <tr>\n",
       "      <th>1</th>\n",
       "      <td>e2</td>\n",
       "      <td>2</td>\n",
       "      <td>2001-01-21 00:00:00</td>\n",
       "    </tr>\n",
       "    <tr>\n",
       "      <th>2</th>\n",
       "      <td>e3</td>\n",
       "      <td>3</td>\n",
       "      <td>2001-12-20 00:00:00</td>\n",
       "    </tr>\n",
       "    <tr>\n",
       "      <th>3</th>\n",
       "      <td>e4</td>\n",
       "      <td>4</td>\n",
       "      <td>2001-02-20 00:00:00</td>\n",
       "    </tr>\n",
       "    <tr>\n",
       "      <th>4</th>\n",
       "      <td>e5</td>\n",
       "      <td>5</td>\n",
       "      <td>2001-02-21 00:00:00</td>\n",
       "    </tr>\n",
       "    <tr>\n",
       "      <th>5</th>\n",
       "      <td>e6</td>\n",
       "      <td>5</td>\n",
       "      <td>2001-02-21 00:00:00</td>\n",
       "    </tr>\n",
       "    <tr>\n",
       "      <th>6</th>\n",
       "      <td>e7</td>\n",
       "      <td>6</td>\n",
       "      <td>2001-02-22 00:00:00</td>\n",
       "    </tr>\n",
       "    <tr>\n",
       "      <th>7</th>\n",
       "      <td>e8</td>\n",
       "      <td>6</td>\n",
       "      <td>2001-02-23 00:00:00</td>\n",
       "    </tr>\n",
       "    <tr>\n",
       "      <th>8</th>\n",
       "      <td>e9</td>\n",
       "      <td>6</td>\n",
       "      <td>2001-02-24 00:00:00</td>\n",
       "    </tr>\n",
       "  </tbody>\n",
       "</table>\n",
       "</div>"
      ],
      "text/plain": [
       "  exercise_id  user_id exercise_completion_date\n",
       "0          e1        1      2001-01-20 00:00:00\n",
       "1          e2        2      2001-01-21 00:00:00\n",
       "2          e3        3      2001-12-20 00:00:00\n",
       "3          e4        4      2001-02-20 00:00:00\n",
       "4          e5        5      2001-02-21 00:00:00\n",
       "5          e6        5      2001-02-21 00:00:00\n",
       "6          e7        6      2001-02-22 00:00:00\n",
       "7          e8        6      2001-02-23 00:00:00\n",
       "8          e9        6      2001-02-24 00:00:00"
      ]
     },
     "execution_count": 8,
     "metadata": {},
     "output_type": "execute_result"
    }
   ],
   "source": [
    "query_statement = \"\"\"\n",
    "\n",
    "    select * from exercises\n",
    "\n",
    "\"\"\"\n",
    "read_sql_query(query_statement, conn)"
   ]
  },
  {
   "cell_type": "markdown",
   "metadata": {},
   "source": [
    "### Solution 1:"
   ]
  },
  {
   "cell_type": "code",
   "execution_count": 9,
   "metadata": {},
   "outputs": [],
   "source": [
    "query_statement = \"\"\"\n",
    "\n",
    "        select strftime('%m', users.created_at) as month, (cast(count(distinct(users.user_id)) as REAL)/for_month.cohort_size)*100 as user_perc from users\n",
    "        \n",
    "        join exercises on (users.user_id = exercises.user_id) and (strftime('%m', users.created_at) = strftime('%m', exercises.exercise_completion_date))\n",
    "        \n",
    "        join (select strftime('%m', created_at) as month, count(*) cohort_size from users group by month) as for_month\n",
    "        \n",
    "        on strftime('%m', users.created_at) = for_month.month\n",
    "        \n",
    "        group by month\n",
    "        \n",
    "\n",
    "\"\"\""
   ]
  },
  {
   "cell_type": "code",
   "execution_count": 10,
   "metadata": {},
   "outputs": [
    {
     "data": {
      "text/html": [
       "<div>\n",
       "<style scoped>\n",
       "    .dataframe tbody tr th:only-of-type {\n",
       "        vertical-align: middle;\n",
       "    }\n",
       "\n",
       "    .dataframe tbody tr th {\n",
       "        vertical-align: top;\n",
       "    }\n",
       "\n",
       "    .dataframe thead th {\n",
       "        text-align: right;\n",
       "    }\n",
       "</style>\n",
       "<table border=\"1\" class=\"dataframe\">\n",
       "  <thead>\n",
       "    <tr style=\"text-align: right;\">\n",
       "      <th></th>\n",
       "      <th>month</th>\n",
       "      <th>user_perc</th>\n",
       "    </tr>\n",
       "  </thead>\n",
       "  <tbody>\n",
       "    <tr>\n",
       "      <th>0</th>\n",
       "      <td>01</td>\n",
       "      <td>66.666667</td>\n",
       "    </tr>\n",
       "    <tr>\n",
       "      <th>1</th>\n",
       "      <td>02</td>\n",
       "      <td>100.000000</td>\n",
       "    </tr>\n",
       "  </tbody>\n",
       "</table>\n",
       "</div>"
      ],
      "text/plain": [
       "  month   user_perc\n",
       "0    01   66.666667\n",
       "1    02  100.000000"
      ]
     },
     "execution_count": 10,
     "metadata": {},
     "output_type": "execute_result"
    }
   ],
   "source": [
    "read_sql_query(query_statement, conn)"
   ]
  },
  {
   "cell_type": "markdown",
   "metadata": {},
   "source": [
    "### Solution 2:"
   ]
  },
  {
   "cell_type": "code",
   "execution_count": 11,
   "metadata": {},
   "outputs": [],
   "source": [
    "query = \"\"\"\n",
    "\n",
    "    select exercises.user_id, count(*) num_exec_comp from exercises\n",
    "    where exercise_completion_date is not null\n",
    "    group by exercises.user_id\n",
    "\n",
    "\"\"\""
   ]
  },
  {
   "cell_type": "code",
   "execution_count": 12,
   "metadata": {},
   "outputs": [
    {
     "data": {
      "text/html": [
       "<div>\n",
       "<style scoped>\n",
       "    .dataframe tbody tr th:only-of-type {\n",
       "        vertical-align: middle;\n",
       "    }\n",
       "\n",
       "    .dataframe tbody tr th {\n",
       "        vertical-align: top;\n",
       "    }\n",
       "\n",
       "    .dataframe thead th {\n",
       "        text-align: right;\n",
       "    }\n",
       "</style>\n",
       "<table border=\"1\" class=\"dataframe\">\n",
       "  <thead>\n",
       "    <tr style=\"text-align: right;\">\n",
       "      <th></th>\n",
       "      <th>user_id</th>\n",
       "      <th>num_exec_comp</th>\n",
       "    </tr>\n",
       "  </thead>\n",
       "  <tbody>\n",
       "    <tr>\n",
       "      <th>0</th>\n",
       "      <td>1</td>\n",
       "      <td>1</td>\n",
       "    </tr>\n",
       "    <tr>\n",
       "      <th>1</th>\n",
       "      <td>2</td>\n",
       "      <td>1</td>\n",
       "    </tr>\n",
       "    <tr>\n",
       "      <th>2</th>\n",
       "      <td>3</td>\n",
       "      <td>1</td>\n",
       "    </tr>\n",
       "    <tr>\n",
       "      <th>3</th>\n",
       "      <td>4</td>\n",
       "      <td>1</td>\n",
       "    </tr>\n",
       "    <tr>\n",
       "      <th>4</th>\n",
       "      <td>5</td>\n",
       "      <td>2</td>\n",
       "    </tr>\n",
       "    <tr>\n",
       "      <th>5</th>\n",
       "      <td>6</td>\n",
       "      <td>3</td>\n",
       "    </tr>\n",
       "  </tbody>\n",
       "</table>\n",
       "</div>"
      ],
      "text/plain": [
       "   user_id  num_exec_comp\n",
       "0        1              1\n",
       "1        2              1\n",
       "2        3              1\n",
       "3        4              1\n",
       "4        5              2\n",
       "5        6              3"
      ]
     },
     "execution_count": 12,
     "metadata": {},
     "output_type": "execute_result"
    }
   ],
   "source": [
    "pd.read_sql_query(query, conn)"
   ]
  },
  {
   "cell_type": "markdown",
   "metadata": {},
   "source": [
    "### Solution 3:"
   ]
  },
  {
   "cell_type": "code",
   "execution_count": 13,
   "metadata": {},
   "outputs": [],
   "source": [
    "query = \"\"\"\n",
    "\n",
    "       select organization_id, avg(score) avg_score from phq9\n",
    "       join providers on phq9.provider_id = providers.provider_id\n",
    "       group by organization_id\n",
    "       order by avg_score desc\n",
    "       limit 5\n",
    "\n",
    "\"\"\""
   ]
  },
  {
   "cell_type": "code",
   "execution_count": 14,
   "metadata": {},
   "outputs": [
    {
     "data": {
      "text/html": [
       "<div>\n",
       "<style scoped>\n",
       "    .dataframe tbody tr th:only-of-type {\n",
       "        vertical-align: middle;\n",
       "    }\n",
       "\n",
       "    .dataframe tbody tr th {\n",
       "        vertical-align: top;\n",
       "    }\n",
       "\n",
       "    .dataframe thead th {\n",
       "        text-align: right;\n",
       "    }\n",
       "</style>\n",
       "<table border=\"1\" class=\"dataframe\">\n",
       "  <thead>\n",
       "    <tr style=\"text-align: right;\">\n",
       "      <th></th>\n",
       "      <th>organization_id</th>\n",
       "      <th>avg_score</th>\n",
       "    </tr>\n",
       "  </thead>\n",
       "  <tbody>\n",
       "    <tr>\n",
       "      <th>0</th>\n",
       "      <td>o3</td>\n",
       "      <td>23.000000</td>\n",
       "    </tr>\n",
       "    <tr>\n",
       "      <th>1</th>\n",
       "      <td>o1</td>\n",
       "      <td>19.250000</td>\n",
       "    </tr>\n",
       "    <tr>\n",
       "      <th>2</th>\n",
       "      <td>o2</td>\n",
       "      <td>16.333333</td>\n",
       "    </tr>\n",
       "    <tr>\n",
       "      <th>3</th>\n",
       "      <td>o6</td>\n",
       "      <td>16.000000</td>\n",
       "    </tr>\n",
       "    <tr>\n",
       "      <th>4</th>\n",
       "      <td>o5</td>\n",
       "      <td>15.000000</td>\n",
       "    </tr>\n",
       "  </tbody>\n",
       "</table>\n",
       "</div>"
      ],
      "text/plain": [
       "  organization_id  avg_score\n",
       "0              o3  23.000000\n",
       "1              o1  19.250000\n",
       "2              o2  16.333333\n",
       "3              o6  16.000000\n",
       "4              o5  15.000000"
      ]
     },
     "execution_count": 14,
     "metadata": {},
     "output_type": "execute_result"
    }
   ],
   "source": [
    "pd.read_sql_query(query, conn)"
   ]
  }
 ],
 "metadata": {
  "kernelspec": {
   "display_name": "Python 3",
   "language": "python",
   "name": "python3"
  },
  "language_info": {
   "codemirror_mode": {
    "name": "ipython",
    "version": 3
   },
   "file_extension": ".py",
   "mimetype": "text/x-python",
   "name": "python",
   "nbconvert_exporter": "python",
   "pygments_lexer": "ipython3",
   "version": "3.8.5"
  }
 },
 "nbformat": 4,
 "nbformat_minor": 4
}
